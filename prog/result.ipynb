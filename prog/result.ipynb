{
 "cells": [
  {
   "cell_type": "code",
   "execution_count": 2,
   "id": "0dec4810-81a6-424f-8481-5a0284803c41",
   "metadata": {},
   "outputs": [],
   "source": [
    "import pandas as pd"
   ]
  },
  {
   "cell_type": "code",
   "execution_count": 3,
   "id": "9f0d5d72-dafa-406a-9e88-2d7716cfa204",
   "metadata": {},
   "outputs": [
    {
     "data": {
      "text/html": [
       "<div>\n",
       "<style scoped>\n",
       "    .dataframe tbody tr th:only-of-type {\n",
       "        vertical-align: middle;\n",
       "    }\n",
       "\n",
       "    .dataframe tbody tr th {\n",
       "        vertical-align: top;\n",
       "    }\n",
       "\n",
       "    .dataframe thead th {\n",
       "        text-align: right;\n",
       "    }\n",
       "</style>\n",
       "<table border=\"1\" class=\"dataframe\">\n",
       "  <thead>\n",
       "    <tr style=\"text-align: right;\">\n",
       "      <th></th>\n",
       "      <th>ACC</th>\n",
       "      <th>Precision</th>\n",
       "      <th>Recall</th>\n",
       "      <th>F1</th>\n",
       "      <th>AUC</th>\n",
       "      <th>AUPR</th>\n",
       "    </tr>\n",
       "  </thead>\n",
       "  <tbody>\n",
       "    <tr>\n",
       "      <th>0</th>\n",
       "      <td>0.466233</td>\n",
       "      <td>0.460599</td>\n",
       "      <td>0.551862</td>\n",
       "      <td>0.635652</td>\n",
       "      <td>0.494488</td>\n",
       "      <td>0.470716</td>\n",
       "    </tr>\n",
       "    <tr>\n",
       "      <th>1</th>\n",
       "      <td>0.466233</td>\n",
       "      <td>0.460599</td>\n",
       "      <td>0.551862</td>\n",
       "      <td>0.635652</td>\n",
       "      <td>0.494488</td>\n",
       "      <td>0.470716</td>\n",
       "    </tr>\n",
       "    <tr>\n",
       "      <th>2</th>\n",
       "      <td>0.466233</td>\n",
       "      <td>0.460599</td>\n",
       "      <td>0.551862</td>\n",
       "      <td>0.635652</td>\n",
       "      <td>0.494488</td>\n",
       "      <td>0.470716</td>\n",
       "    </tr>\n",
       "    <tr>\n",
       "      <th>3</th>\n",
       "      <td>0.466233</td>\n",
       "      <td>0.460599</td>\n",
       "      <td>0.551862</td>\n",
       "      <td>0.635652</td>\n",
       "      <td>0.494488</td>\n",
       "      <td>0.470716</td>\n",
       "    </tr>\n",
       "    <tr>\n",
       "      <th>4</th>\n",
       "      <td>0.466233</td>\n",
       "      <td>0.460599</td>\n",
       "      <td>0.551862</td>\n",
       "      <td>0.635652</td>\n",
       "      <td>0.494488</td>\n",
       "      <td>0.470716</td>\n",
       "    </tr>\n",
       "  </tbody>\n",
       "</table>\n",
       "</div>"
      ],
      "text/plain": [
       "        ACC  Precision    Recall        F1       AUC      AUPR\n",
       "0  0.466233   0.460599  0.551862  0.635652  0.494488  0.470716\n",
       "1  0.466233   0.460599  0.551862  0.635652  0.494488  0.470716\n",
       "2  0.466233   0.460599  0.551862  0.635652  0.494488  0.470716\n",
       "3  0.466233   0.460599  0.551862  0.635652  0.494488  0.470716\n",
       "4  0.466233   0.460599  0.551862  0.635652  0.494488  0.470716"
      ]
     },
     "execution_count": 3,
     "metadata": {},
     "output_type": "execute_result"
    }
   ],
   "source": [
    "df = pd.read_csv(\"results/test_results.csv\")\n",
    "df"
   ]
  },
  {
   "cell_type": "code",
   "execution_count": 4,
   "id": "08aba955-e6d2-4fc9-ac7d-413f927331a6",
   "metadata": {},
   "outputs": [
    {
     "name": "stdout",
     "output_type": "stream",
     "text": [
      "0.466 ± 0.000\n",
      "0.461 ± 0.000\n",
      "0.552 ± 0.000\n",
      "0.636 ± 0.000\n",
      "0.494 ± 0.000\n",
      "0.471 ± 0.000\n"
     ]
    }
   ],
   "source": [
    "# 各列の平均と標準偏差を計算\n",
    "means = df.mean()\n",
    "stds = df.std()\n",
    "\n",
    "# 結果の表示\n",
    "for column in df.columns:\n",
    "    print(f\"{means[column]:.3f} ± {stds[column]:.3f}\")"
   ]
  },
  {
   "cell_type": "code",
   "execution_count": null,
   "id": "48e55c2e-5ef7-4852-a51a-19ea2ee50936",
   "metadata": {},
   "outputs": [],
   "source": []
  }
 ],
 "metadata": {
  "kernelspec": {
   "display_name": "DeepCDR",
   "language": "python",
   "name": "deepcdr"
  },
  "language_info": {
   "codemirror_mode": {
    "name": "ipython",
    "version": 3
   },
   "file_extension": ".py",
   "mimetype": "text/x-python",
   "name": "python",
   "nbconvert_exporter": "python",
   "pygments_lexer": "ipython3",
   "version": "3.10.15"
  }
 },
 "nbformat": 4,
 "nbformat_minor": 5
}
