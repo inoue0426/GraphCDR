{
 "cells": [
  {
   "cell_type": "code",
   "execution_count": 1,
   "id": "5f41062b-55d6-4711-a9ed-76dd87c3e99c",
   "metadata": {},
   "outputs": [
    {
     "name": "stderr",
     "output_type": "stream",
     "text": [
      "No normalization for SPS. Feature removed!\n",
      "No normalization for AvgIpc. Feature removed!\n"
     ]
    },
    {
     "name": "stdout",
     "output_type": "stream",
     "text": [
      "WARNING:tensorflow:From /Users/inouey2/miniconda3/envs/deepcdr/lib/python3.10/site-packages/tensorflow/python/util/deprecation.py:588: calling function (from tensorflow.python.eager.polymorphic_function.polymorphic_function) with experimental_relax_shapes is deprecated and will be removed in a future version.\n",
      "Instructions for updating:\n",
      "experimental_relax_shapes is deprecated, use reduce_retracing instead\n"
     ]
    },
    {
     "name": "stderr",
     "output_type": "stream",
     "text": [
      "Skipped loading modules with pytorch-geometric dependency, missing a dependency. No module named 'dgl'\n",
      "Skipped loading some Jax models, missing a dependency. No module named 'haiku'\n"
     ]
    }
   ],
   "source": [
    "import os\n",
    "\n",
    "import pandas as pd\n",
    "import deepchem as dc\n",
    "import hickle as hkl\n",
    "import rdkit\n",
    "from rdkit import Chem"
   ]
  },
  {
   "cell_type": "code",
   "execution_count": 11,
   "id": "adea506c-9904-493d-a1ab-a238c6821f28",
   "metadata": {},
   "outputs": [],
   "source": [
    "\"\"\"\n",
    "CanonicalSMILES = 'CC1CCCC2(C(O2)CC(OC(=O)CC(C(C(=O)C(C1O)C)(C)C)O)C(=CC3=CSC(=N3)C)C)C'\n",
    "mol = Chem.MolFromSmiles(CanonicalSMILES)\n",
    "Simles=Chem.MolToSmiles(mol)\n",
    "\"\"\"\n",
    "drug_smiles_file = 'drug_smiles.csv'\n",
    "save_dir = \"drug_graph_feat/\"\n",
    "nsc2smile = dict(pd.read_csv(drug_smiles_file, usecols=['NSC', 'SMILES']).values)\n",
    "molecules = []\n",
    "for each in nsc2smile.keys():\n",
    "    molecules = []\n",
    "    molecules.append(Chem.MolFromSmiles(nsc2smile[each]))\n",
    "    featurizer = dc.feat.graph_features.ConvMolFeaturizer()\n",
    "    mol_object = featurizer.featurize(molecules)\n",
    "    features = mol_object[0].atom_features\n",
    "    degree_list = mol_object[0].deg_list\n",
    "    adj_list = mol_object[0].canon_adj_list\n",
    "    hkl.dump([features, adj_list, degree_list], \"%s/%s.hkl\" % (save_dir, each))"
   ]
  },
  {
   "cell_type": "code",
   "execution_count": null,
   "id": "dfedc117-e186-4001-bbf0-d18f0e1e73f8",
   "metadata": {},
   "outputs": [],
   "source": []
  }
 ],
 "metadata": {
  "kernelspec": {
   "display_name": "DeepCDR",
   "language": "python",
   "name": "deepcdr"
  },
  "language_info": {
   "codemirror_mode": {
    "name": "ipython",
    "version": 3
   },
   "file_extension": ".py",
   "mimetype": "text/x-python",
   "name": "python",
   "nbconvert_exporter": "python",
   "pygments_lexer": "ipython3",
   "version": "3.10.15"
  }
 },
 "nbformat": 4,
 "nbformat_minor": 5
}
